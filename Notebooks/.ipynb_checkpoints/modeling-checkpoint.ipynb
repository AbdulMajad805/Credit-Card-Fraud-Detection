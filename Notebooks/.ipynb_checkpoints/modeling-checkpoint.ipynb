{
 "cells": [
  {
   "cell_type": "code",
   "execution_count": 1,
   "id": "7200ddf2-b759-43c2-95c0-138812df2480",
   "metadata": {},
   "outputs": [],
   "source": [
    "import joblib\n",
    "dataset= joblib.load(r'C:\\Users\\MAJID KHAN\\Data Science\\Projects\\CreditCard Fraud\\Data\\processed_data.pkl')\n"
   ]
  },
  {
   "cell_type": "code",
   "execution_count": 2,
   "id": "3a563ac7-a3de-4097-a53e-ca549602ce9a",
   "metadata": {},
   "outputs": [
    {
     "data": {
      "text/html": [
       "<div>\n",
       "<style scoped>\n",
       "    .dataframe tbody tr th:only-of-type {\n",
       "        vertical-align: middle;\n",
       "    }\n",
       "\n",
       "    .dataframe tbody tr th {\n",
       "        vertical-align: top;\n",
       "    }\n",
       "\n",
       "    .dataframe thead th {\n",
       "        text-align: right;\n",
       "    }\n",
       "</style>\n",
       "<table border=\"1\" class=\"dataframe\">\n",
       "  <thead>\n",
       "    <tr style=\"text-align: right;\">\n",
       "      <th></th>\n",
       "      <th>V17</th>\n",
       "      <th>V14</th>\n",
       "      <th>V12</th>\n",
       "      <th>V10</th>\n",
       "      <th>V3</th>\n",
       "      <th>V16</th>\n",
       "      <th>V7</th>\n",
       "      <th>V11</th>\n",
       "      <th>V4</th>\n",
       "      <th>V18</th>\n",
       "      <th>Scaled_Amount</th>\n",
       "      <th>Class</th>\n",
       "    </tr>\n",
       "  </thead>\n",
       "  <tbody>\n",
       "    <tr>\n",
       "      <th>0</th>\n",
       "      <td>0.207971</td>\n",
       "      <td>-0.311169</td>\n",
       "      <td>-0.617801</td>\n",
       "      <td>0.090794</td>\n",
       "      <td>2.536347</td>\n",
       "      <td>-0.470401</td>\n",
       "      <td>0.239599</td>\n",
       "      <td>-0.551600</td>\n",
       "      <td>1.378155</td>\n",
       "      <td>0.025791</td>\n",
       "      <td>1.731174</td>\n",
       "      <td>0.0</td>\n",
       "    </tr>\n",
       "    <tr>\n",
       "      <th>1</th>\n",
       "      <td>-0.114805</td>\n",
       "      <td>-0.143772</td>\n",
       "      <td>1.065235</td>\n",
       "      <td>-0.166974</td>\n",
       "      <td>0.166480</td>\n",
       "      <td>0.463917</td>\n",
       "      <td>-0.078803</td>\n",
       "      <td>1.612727</td>\n",
       "      <td>0.448154</td>\n",
       "      <td>-0.183361</td>\n",
       "      <td>-0.276889</td>\n",
       "      <td>0.0</td>\n",
       "    </tr>\n",
       "    <tr>\n",
       "      <th>2</th>\n",
       "      <td>1.109969</td>\n",
       "      <td>-0.165946</td>\n",
       "      <td>0.066084</td>\n",
       "      <td>0.207643</td>\n",
       "      <td>1.773209</td>\n",
       "      <td>-2.890083</td>\n",
       "      <td>0.791461</td>\n",
       "      <td>0.624501</td>\n",
       "      <td>0.379780</td>\n",
       "      <td>-0.121359</td>\n",
       "      <td>4.861419</td>\n",
       "      <td>0.0</td>\n",
       "    </tr>\n",
       "    <tr>\n",
       "      <th>3</th>\n",
       "      <td>-0.684093</td>\n",
       "      <td>-0.287924</td>\n",
       "      <td>0.178228</td>\n",
       "      <td>-0.054952</td>\n",
       "      <td>1.792993</td>\n",
       "      <td>-1.059647</td>\n",
       "      <td>0.237609</td>\n",
       "      <td>-0.226487</td>\n",
       "      <td>-0.863291</td>\n",
       "      <td>1.965775</td>\n",
       "      <td>1.374197</td>\n",
       "      <td>0.0</td>\n",
       "    </tr>\n",
       "    <tr>\n",
       "      <th>4</th>\n",
       "      <td>-0.237033</td>\n",
       "      <td>-1.119670</td>\n",
       "      <td>0.538196</td>\n",
       "      <td>0.753074</td>\n",
       "      <td>1.548718</td>\n",
       "      <td>-0.451449</td>\n",
       "      <td>0.592941</td>\n",
       "      <td>-0.822843</td>\n",
       "      <td>0.403034</td>\n",
       "      <td>-0.038195</td>\n",
       "      <td>0.642886</td>\n",
       "      <td>0.0</td>\n",
       "    </tr>\n",
       "  </tbody>\n",
       "</table>\n",
       "</div>"
      ],
      "text/plain": [
       "        V17       V14       V12       V10        V3       V16        V7  \\\n",
       "0  0.207971 -0.311169 -0.617801  0.090794  2.536347 -0.470401  0.239599   \n",
       "1 -0.114805 -0.143772  1.065235 -0.166974  0.166480  0.463917 -0.078803   \n",
       "2  1.109969 -0.165946  0.066084  0.207643  1.773209 -2.890083  0.791461   \n",
       "3 -0.684093 -0.287924  0.178228 -0.054952  1.792993 -1.059647  0.237609   \n",
       "4 -0.237033 -1.119670  0.538196  0.753074  1.548718 -0.451449  0.592941   \n",
       "\n",
       "        V11        V4       V18  Scaled_Amount  Class  \n",
       "0 -0.551600  1.378155  0.025791       1.731174    0.0  \n",
       "1  1.612727  0.448154 -0.183361      -0.276889    0.0  \n",
       "2  0.624501  0.379780 -0.121359       4.861419    0.0  \n",
       "3 -0.226487 -0.863291  1.965775       1.374197    0.0  \n",
       "4 -0.822843  0.403034 -0.038195       0.642886    0.0  "
      ]
     },
     "execution_count": 2,
     "metadata": {},
     "output_type": "execute_result"
    }
   ],
   "source": [
    "dataset.head(5)"
   ]
  },
  {
   "cell_type": "code",
   "execution_count": 3,
   "id": "954ee840-471e-4663-b8b7-b5d237afe866",
   "metadata": {},
   "outputs": [],
   "source": [
    "from sklearn.model_selection import train_test_split\n",
    "from sklearn.linear_model import LogisticRegression\n",
    "from sklearn.ensemble import RandomForestClassifier\n",
    "from sklearn.metrics import classification_report, confusion_matrix, recall_score, f1_score"
   ]
  },
  {
   "cell_type": "code",
   "execution_count": 4,
   "id": "d189cd4f-ed20-4479-a2a3-8b4002fdc7e4",
   "metadata": {},
   "outputs": [],
   "source": [
    "X= dataset.iloc[:,:-1]\n",
    "y=dataset['Class']"
   ]
  },
  {
   "cell_type": "code",
   "execution_count": 5,
   "id": "2c0eca8c-45fe-4192-8364-aa34b0535dd8",
   "metadata": {},
   "outputs": [],
   "source": [
    "x_train, x_test, y_train, y_test= train_test_split(X,y, test_size=0.2, random_state=42, stratify=y) "
   ]
  },
  {
   "cell_type": "code",
   "execution_count": 6,
   "id": "b9c11f48-a503-4c13-b9e0-e259fa7e4c72",
   "metadata": {},
   "outputs": [
    {
     "data": {
      "text/plain": [
       "((154791, 11), (154791,), (38698, 11), (38698,))"
      ]
     },
     "execution_count": 6,
     "metadata": {},
     "output_type": "execute_result"
    }
   ],
   "source": [
    "x_train.shape, y_train.shape, x_test.shape, y_test.shape"
   ]
  },
  {
   "cell_type": "code",
   "execution_count": 7,
   "id": "ced4890e-57c6-42f5-b6c0-4dffcff29ae6",
   "metadata": {},
   "outputs": [],
   "source": [
    "# Oversampling"
   ]
  },
  {
   "cell_type": "markdown",
   "id": "fa90047a-b04d-49d8-a75b-39a81f319cb8",
   "metadata": {},
   "source": [
    "**❓Why Not Oversample Only the Class Feature?**\n",
    "- Because the goal of oversampling is not to just increase the number of “fraud” labels (i.e., the Class column)…\n",
    "- 🔁 It's to create new full data points (rows) where features and labels are both synthetic and realistic.\n",
    "\n",
    "**✅ Why Oversample Only Training Data?**\n",
    "- If you apply SMOTE (or any resampling) before splitting:\n",
    "- The synthetic fraud samples will leak into your test set.\n",
    "- This will cause data leakage, giving you an unrealistically high score.\n",
    "- Your model won’t generalize well to real, unseen fraud."
   ]
  },
  {
   "cell_type": "code",
   "execution_count": 9,
   "id": "b2c4971b-8532-4981-b855-cce27ea3627b",
   "metadata": {},
   "outputs": [],
   "source": [
    "from imblearn.over_sampling import SMOTE"
   ]
  },
  {
   "cell_type": "code",
   "execution_count": 10,
   "id": "f61b11da-03f6-40fc-ad4e-8dc13fb83d45",
   "metadata": {},
   "outputs": [],
   "source": [
    "sampling= SMOTE(random_state=42)"
   ]
  },
  {
   "cell_type": "code",
   "execution_count": 11,
   "id": "6a207979-5ab7-4f6b-a247-6ea323734999",
   "metadata": {},
   "outputs": [],
   "source": [
    "x_train_res, y_train_res= sampling.fit_resample(x_train,y_train)"
   ]
  },
  {
   "cell_type": "code",
   "execution_count": 12,
   "id": "f0d42c6a-9ccb-46f2-b04d-884897b31a62",
   "metadata": {},
   "outputs": [],
   "source": [
    "# modeling using Logistic Regression"
   ]
  },
  {
   "cell_type": "code",
   "execution_count": 13,
   "id": "f1542b4b-42a1-4783-97b0-ad4eaea7ae54",
   "metadata": {},
   "outputs": [],
   "source": [
    "model_lr = LogisticRegression()"
   ]
  },
  {
   "cell_type": "code",
   "execution_count": 14,
   "id": "89c0aafd-9376-4c8d-b821-be2f2fa1823b",
   "metadata": {},
   "outputs": [
    {
     "data": {
      "text/html": [
       "<style>#sk-container-id-1 {\n",
       "  /* Definition of color scheme common for light and dark mode */\n",
       "  --sklearn-color-text: black;\n",
       "  --sklearn-color-line: gray;\n",
       "  /* Definition of color scheme for unfitted estimators */\n",
       "  --sklearn-color-unfitted-level-0: #fff5e6;\n",
       "  --sklearn-color-unfitted-level-1: #f6e4d2;\n",
       "  --sklearn-color-unfitted-level-2: #ffe0b3;\n",
       "  --sklearn-color-unfitted-level-3: chocolate;\n",
       "  /* Definition of color scheme for fitted estimators */\n",
       "  --sklearn-color-fitted-level-0: #f0f8ff;\n",
       "  --sklearn-color-fitted-level-1: #d4ebff;\n",
       "  --sklearn-color-fitted-level-2: #b3dbfd;\n",
       "  --sklearn-color-fitted-level-3: cornflowerblue;\n",
       "\n",
       "  /* Specific color for light theme */\n",
       "  --sklearn-color-text-on-default-background: var(--sg-text-color, var(--theme-code-foreground, var(--jp-content-font-color1, black)));\n",
       "  --sklearn-color-background: var(--sg-background-color, var(--theme-background, var(--jp-layout-color0, white)));\n",
       "  --sklearn-color-border-box: var(--sg-text-color, var(--theme-code-foreground, var(--jp-content-font-color1, black)));\n",
       "  --sklearn-color-icon: #696969;\n",
       "\n",
       "  @media (prefers-color-scheme: dark) {\n",
       "    /* Redefinition of color scheme for dark theme */\n",
       "    --sklearn-color-text-on-default-background: var(--sg-text-color, var(--theme-code-foreground, var(--jp-content-font-color1, white)));\n",
       "    --sklearn-color-background: var(--sg-background-color, var(--theme-background, var(--jp-layout-color0, #111)));\n",
       "    --sklearn-color-border-box: var(--sg-text-color, var(--theme-code-foreground, var(--jp-content-font-color1, white)));\n",
       "    --sklearn-color-icon: #878787;\n",
       "  }\n",
       "}\n",
       "\n",
       "#sk-container-id-1 {\n",
       "  color: var(--sklearn-color-text);\n",
       "}\n",
       "\n",
       "#sk-container-id-1 pre {\n",
       "  padding: 0;\n",
       "}\n",
       "\n",
       "#sk-container-id-1 input.sk-hidden--visually {\n",
       "  border: 0;\n",
       "  clip: rect(1px 1px 1px 1px);\n",
       "  clip: rect(1px, 1px, 1px, 1px);\n",
       "  height: 1px;\n",
       "  margin: -1px;\n",
       "  overflow: hidden;\n",
       "  padding: 0;\n",
       "  position: absolute;\n",
       "  width: 1px;\n",
       "}\n",
       "\n",
       "#sk-container-id-1 div.sk-dashed-wrapped {\n",
       "  border: 1px dashed var(--sklearn-color-line);\n",
       "  margin: 0 0.4em 0.5em 0.4em;\n",
       "  box-sizing: border-box;\n",
       "  padding-bottom: 0.4em;\n",
       "  background-color: var(--sklearn-color-background);\n",
       "}\n",
       "\n",
       "#sk-container-id-1 div.sk-container {\n",
       "  /* jupyter's `normalize.less` sets `[hidden] { display: none; }`\n",
       "     but bootstrap.min.css set `[hidden] { display: none !important; }`\n",
       "     so we also need the `!important` here to be able to override the\n",
       "     default hidden behavior on the sphinx rendered scikit-learn.org.\n",
       "     See: https://github.com/scikit-learn/scikit-learn/issues/21755 */\n",
       "  display: inline-block !important;\n",
       "  position: relative;\n",
       "}\n",
       "\n",
       "#sk-container-id-1 div.sk-text-repr-fallback {\n",
       "  display: none;\n",
       "}\n",
       "\n",
       "div.sk-parallel-item,\n",
       "div.sk-serial,\n",
       "div.sk-item {\n",
       "  /* draw centered vertical line to link estimators */\n",
       "  background-image: linear-gradient(var(--sklearn-color-text-on-default-background), var(--sklearn-color-text-on-default-background));\n",
       "  background-size: 2px 100%;\n",
       "  background-repeat: no-repeat;\n",
       "  background-position: center center;\n",
       "}\n",
       "\n",
       "/* Parallel-specific style estimator block */\n",
       "\n",
       "#sk-container-id-1 div.sk-parallel-item::after {\n",
       "  content: \"\";\n",
       "  width: 100%;\n",
       "  border-bottom: 2px solid var(--sklearn-color-text-on-default-background);\n",
       "  flex-grow: 1;\n",
       "}\n",
       "\n",
       "#sk-container-id-1 div.sk-parallel {\n",
       "  display: flex;\n",
       "  align-items: stretch;\n",
       "  justify-content: center;\n",
       "  background-color: var(--sklearn-color-background);\n",
       "  position: relative;\n",
       "}\n",
       "\n",
       "#sk-container-id-1 div.sk-parallel-item {\n",
       "  display: flex;\n",
       "  flex-direction: column;\n",
       "}\n",
       "\n",
       "#sk-container-id-1 div.sk-parallel-item:first-child::after {\n",
       "  align-self: flex-end;\n",
       "  width: 50%;\n",
       "}\n",
       "\n",
       "#sk-container-id-1 div.sk-parallel-item:last-child::after {\n",
       "  align-self: flex-start;\n",
       "  width: 50%;\n",
       "}\n",
       "\n",
       "#sk-container-id-1 div.sk-parallel-item:only-child::after {\n",
       "  width: 0;\n",
       "}\n",
       "\n",
       "/* Serial-specific style estimator block */\n",
       "\n",
       "#sk-container-id-1 div.sk-serial {\n",
       "  display: flex;\n",
       "  flex-direction: column;\n",
       "  align-items: center;\n",
       "  background-color: var(--sklearn-color-background);\n",
       "  padding-right: 1em;\n",
       "  padding-left: 1em;\n",
       "}\n",
       "\n",
       "\n",
       "/* Toggleable style: style used for estimator/Pipeline/ColumnTransformer box that is\n",
       "clickable and can be expanded/collapsed.\n",
       "- Pipeline and ColumnTransformer use this feature and define the default style\n",
       "- Estimators will overwrite some part of the style using the `sk-estimator` class\n",
       "*/\n",
       "\n",
       "/* Pipeline and ColumnTransformer style (default) */\n",
       "\n",
       "#sk-container-id-1 div.sk-toggleable {\n",
       "  /* Default theme specific background. It is overwritten whether we have a\n",
       "  specific estimator or a Pipeline/ColumnTransformer */\n",
       "  background-color: var(--sklearn-color-background);\n",
       "}\n",
       "\n",
       "/* Toggleable label */\n",
       "#sk-container-id-1 label.sk-toggleable__label {\n",
       "  cursor: pointer;\n",
       "  display: block;\n",
       "  width: 100%;\n",
       "  margin-bottom: 0;\n",
       "  padding: 0.5em;\n",
       "  box-sizing: border-box;\n",
       "  text-align: center;\n",
       "}\n",
       "\n",
       "#sk-container-id-1 label.sk-toggleable__label-arrow:before {\n",
       "  /* Arrow on the left of the label */\n",
       "  content: \"▸\";\n",
       "  float: left;\n",
       "  margin-right: 0.25em;\n",
       "  color: var(--sklearn-color-icon);\n",
       "}\n",
       "\n",
       "#sk-container-id-1 label.sk-toggleable__label-arrow:hover:before {\n",
       "  color: var(--sklearn-color-text);\n",
       "}\n",
       "\n",
       "/* Toggleable content - dropdown */\n",
       "\n",
       "#sk-container-id-1 div.sk-toggleable__content {\n",
       "  max-height: 0;\n",
       "  max-width: 0;\n",
       "  overflow: hidden;\n",
       "  text-align: left;\n",
       "  /* unfitted */\n",
       "  background-color: var(--sklearn-color-unfitted-level-0);\n",
       "}\n",
       "\n",
       "#sk-container-id-1 div.sk-toggleable__content.fitted {\n",
       "  /* fitted */\n",
       "  background-color: var(--sklearn-color-fitted-level-0);\n",
       "}\n",
       "\n",
       "#sk-container-id-1 div.sk-toggleable__content pre {\n",
       "  margin: 0.2em;\n",
       "  border-radius: 0.25em;\n",
       "  color: var(--sklearn-color-text);\n",
       "  /* unfitted */\n",
       "  background-color: var(--sklearn-color-unfitted-level-0);\n",
       "}\n",
       "\n",
       "#sk-container-id-1 div.sk-toggleable__content.fitted pre {\n",
       "  /* unfitted */\n",
       "  background-color: var(--sklearn-color-fitted-level-0);\n",
       "}\n",
       "\n",
       "#sk-container-id-1 input.sk-toggleable__control:checked~div.sk-toggleable__content {\n",
       "  /* Expand drop-down */\n",
       "  max-height: 200px;\n",
       "  max-width: 100%;\n",
       "  overflow: auto;\n",
       "}\n",
       "\n",
       "#sk-container-id-1 input.sk-toggleable__control:checked~label.sk-toggleable__label-arrow:before {\n",
       "  content: \"▾\";\n",
       "}\n",
       "\n",
       "/* Pipeline/ColumnTransformer-specific style */\n",
       "\n",
       "#sk-container-id-1 div.sk-label input.sk-toggleable__control:checked~label.sk-toggleable__label {\n",
       "  color: var(--sklearn-color-text);\n",
       "  background-color: var(--sklearn-color-unfitted-level-2);\n",
       "}\n",
       "\n",
       "#sk-container-id-1 div.sk-label.fitted input.sk-toggleable__control:checked~label.sk-toggleable__label {\n",
       "  background-color: var(--sklearn-color-fitted-level-2);\n",
       "}\n",
       "\n",
       "/* Estimator-specific style */\n",
       "\n",
       "/* Colorize estimator box */\n",
       "#sk-container-id-1 div.sk-estimator input.sk-toggleable__control:checked~label.sk-toggleable__label {\n",
       "  /* unfitted */\n",
       "  background-color: var(--sklearn-color-unfitted-level-2);\n",
       "}\n",
       "\n",
       "#sk-container-id-1 div.sk-estimator.fitted input.sk-toggleable__control:checked~label.sk-toggleable__label {\n",
       "  /* fitted */\n",
       "  background-color: var(--sklearn-color-fitted-level-2);\n",
       "}\n",
       "\n",
       "#sk-container-id-1 div.sk-label label.sk-toggleable__label,\n",
       "#sk-container-id-1 div.sk-label label {\n",
       "  /* The background is the default theme color */\n",
       "  color: var(--sklearn-color-text-on-default-background);\n",
       "}\n",
       "\n",
       "/* On hover, darken the color of the background */\n",
       "#sk-container-id-1 div.sk-label:hover label.sk-toggleable__label {\n",
       "  color: var(--sklearn-color-text);\n",
       "  background-color: var(--sklearn-color-unfitted-level-2);\n",
       "}\n",
       "\n",
       "/* Label box, darken color on hover, fitted */\n",
       "#sk-container-id-1 div.sk-label.fitted:hover label.sk-toggleable__label.fitted {\n",
       "  color: var(--sklearn-color-text);\n",
       "  background-color: var(--sklearn-color-fitted-level-2);\n",
       "}\n",
       "\n",
       "/* Estimator label */\n",
       "\n",
       "#sk-container-id-1 div.sk-label label {\n",
       "  font-family: monospace;\n",
       "  font-weight: bold;\n",
       "  display: inline-block;\n",
       "  line-height: 1.2em;\n",
       "}\n",
       "\n",
       "#sk-container-id-1 div.sk-label-container {\n",
       "  text-align: center;\n",
       "}\n",
       "\n",
       "/* Estimator-specific */\n",
       "#sk-container-id-1 div.sk-estimator {\n",
       "  font-family: monospace;\n",
       "  border: 1px dotted var(--sklearn-color-border-box);\n",
       "  border-radius: 0.25em;\n",
       "  box-sizing: border-box;\n",
       "  margin-bottom: 0.5em;\n",
       "  /* unfitted */\n",
       "  background-color: var(--sklearn-color-unfitted-level-0);\n",
       "}\n",
       "\n",
       "#sk-container-id-1 div.sk-estimator.fitted {\n",
       "  /* fitted */\n",
       "  background-color: var(--sklearn-color-fitted-level-0);\n",
       "}\n",
       "\n",
       "/* on hover */\n",
       "#sk-container-id-1 div.sk-estimator:hover {\n",
       "  /* unfitted */\n",
       "  background-color: var(--sklearn-color-unfitted-level-2);\n",
       "}\n",
       "\n",
       "#sk-container-id-1 div.sk-estimator.fitted:hover {\n",
       "  /* fitted */\n",
       "  background-color: var(--sklearn-color-fitted-level-2);\n",
       "}\n",
       "\n",
       "/* Specification for estimator info (e.g. \"i\" and \"?\") */\n",
       "\n",
       "/* Common style for \"i\" and \"?\" */\n",
       "\n",
       ".sk-estimator-doc-link,\n",
       "a:link.sk-estimator-doc-link,\n",
       "a:visited.sk-estimator-doc-link {\n",
       "  float: right;\n",
       "  font-size: smaller;\n",
       "  line-height: 1em;\n",
       "  font-family: monospace;\n",
       "  background-color: var(--sklearn-color-background);\n",
       "  border-radius: 1em;\n",
       "  height: 1em;\n",
       "  width: 1em;\n",
       "  text-decoration: none !important;\n",
       "  margin-left: 1ex;\n",
       "  /* unfitted */\n",
       "  border: var(--sklearn-color-unfitted-level-1) 1pt solid;\n",
       "  color: var(--sklearn-color-unfitted-level-1);\n",
       "}\n",
       "\n",
       ".sk-estimator-doc-link.fitted,\n",
       "a:link.sk-estimator-doc-link.fitted,\n",
       "a:visited.sk-estimator-doc-link.fitted {\n",
       "  /* fitted */\n",
       "  border: var(--sklearn-color-fitted-level-1) 1pt solid;\n",
       "  color: var(--sklearn-color-fitted-level-1);\n",
       "}\n",
       "\n",
       "/* On hover */\n",
       "div.sk-estimator:hover .sk-estimator-doc-link:hover,\n",
       ".sk-estimator-doc-link:hover,\n",
       "div.sk-label-container:hover .sk-estimator-doc-link:hover,\n",
       ".sk-estimator-doc-link:hover {\n",
       "  /* unfitted */\n",
       "  background-color: var(--sklearn-color-unfitted-level-3);\n",
       "  color: var(--sklearn-color-background);\n",
       "  text-decoration: none;\n",
       "}\n",
       "\n",
       "div.sk-estimator.fitted:hover .sk-estimator-doc-link.fitted:hover,\n",
       ".sk-estimator-doc-link.fitted:hover,\n",
       "div.sk-label-container:hover .sk-estimator-doc-link.fitted:hover,\n",
       ".sk-estimator-doc-link.fitted:hover {\n",
       "  /* fitted */\n",
       "  background-color: var(--sklearn-color-fitted-level-3);\n",
       "  color: var(--sklearn-color-background);\n",
       "  text-decoration: none;\n",
       "}\n",
       "\n",
       "/* Span, style for the box shown on hovering the info icon */\n",
       ".sk-estimator-doc-link span {\n",
       "  display: none;\n",
       "  z-index: 9999;\n",
       "  position: relative;\n",
       "  font-weight: normal;\n",
       "  right: .2ex;\n",
       "  padding: .5ex;\n",
       "  margin: .5ex;\n",
       "  width: min-content;\n",
       "  min-width: 20ex;\n",
       "  max-width: 50ex;\n",
       "  color: var(--sklearn-color-text);\n",
       "  box-shadow: 2pt 2pt 4pt #999;\n",
       "  /* unfitted */\n",
       "  background: var(--sklearn-color-unfitted-level-0);\n",
       "  border: .5pt solid var(--sklearn-color-unfitted-level-3);\n",
       "}\n",
       "\n",
       ".sk-estimator-doc-link.fitted span {\n",
       "  /* fitted */\n",
       "  background: var(--sklearn-color-fitted-level-0);\n",
       "  border: var(--sklearn-color-fitted-level-3);\n",
       "}\n",
       "\n",
       ".sk-estimator-doc-link:hover span {\n",
       "  display: block;\n",
       "}\n",
       "\n",
       "/* \"?\"-specific style due to the `<a>` HTML tag */\n",
       "\n",
       "#sk-container-id-1 a.estimator_doc_link {\n",
       "  float: right;\n",
       "  font-size: 1rem;\n",
       "  line-height: 1em;\n",
       "  font-family: monospace;\n",
       "  background-color: var(--sklearn-color-background);\n",
       "  border-radius: 1rem;\n",
       "  height: 1rem;\n",
       "  width: 1rem;\n",
       "  text-decoration: none;\n",
       "  /* unfitted */\n",
       "  color: var(--sklearn-color-unfitted-level-1);\n",
       "  border: var(--sklearn-color-unfitted-level-1) 1pt solid;\n",
       "}\n",
       "\n",
       "#sk-container-id-1 a.estimator_doc_link.fitted {\n",
       "  /* fitted */\n",
       "  border: var(--sklearn-color-fitted-level-1) 1pt solid;\n",
       "  color: var(--sklearn-color-fitted-level-1);\n",
       "}\n",
       "\n",
       "/* On hover */\n",
       "#sk-container-id-1 a.estimator_doc_link:hover {\n",
       "  /* unfitted */\n",
       "  background-color: var(--sklearn-color-unfitted-level-3);\n",
       "  color: var(--sklearn-color-background);\n",
       "  text-decoration: none;\n",
       "}\n",
       "\n",
       "#sk-container-id-1 a.estimator_doc_link.fitted:hover {\n",
       "  /* fitted */\n",
       "  background-color: var(--sklearn-color-fitted-level-3);\n",
       "}\n",
       "</style><div id=\"sk-container-id-1\" class=\"sk-top-container\"><div class=\"sk-text-repr-fallback\"><pre>LogisticRegression()</pre><b>In a Jupyter environment, please rerun this cell to show the HTML representation or trust the notebook. <br />On GitHub, the HTML representation is unable to render, please try loading this page with nbviewer.org.</b></div><div class=\"sk-container\" hidden><div class=\"sk-item\"><div class=\"sk-estimator fitted sk-toggleable\"><input class=\"sk-toggleable__control sk-hidden--visually\" id=\"sk-estimator-id-1\" type=\"checkbox\" checked><label for=\"sk-estimator-id-1\" class=\"sk-toggleable__label fitted sk-toggleable__label-arrow fitted\">&nbsp;&nbsp;LogisticRegression<a class=\"sk-estimator-doc-link fitted\" rel=\"noreferrer\" target=\"_blank\" href=\"https://scikit-learn.org/1.5/modules/generated/sklearn.linear_model.LogisticRegression.html\">?<span>Documentation for LogisticRegression</span></a><span class=\"sk-estimator-doc-link fitted\">i<span>Fitted</span></span></label><div class=\"sk-toggleable__content fitted\"><pre>LogisticRegression()</pre></div> </div></div></div></div>"
      ],
      "text/plain": [
       "LogisticRegression()"
      ]
     },
     "execution_count": 14,
     "metadata": {},
     "output_type": "execute_result"
    }
   ],
   "source": [
    "model_lr.fit(x_train_res,y_train_res)"
   ]
  },
  {
   "cell_type": "code",
   "execution_count": 18,
   "id": "e12e5054-e649-4331-91d4-72975b7e50b4",
   "metadata": {},
   "outputs": [],
   "source": [
    "# Modeling using Random Forest"
   ]
  },
  {
   "cell_type": "code",
   "execution_count": 19,
   "id": "f634ddb1-ff6e-4878-834e-d0667689bb24",
   "metadata": {},
   "outputs": [],
   "source": [
    "model_rf= RandomForestClassifier(n_estimators=100)"
   ]
  },
  {
   "cell_type": "code",
   "execution_count": 101,
   "id": "89837aa8-e154-4a11-8b2f-5a907587fa60",
   "metadata": {},
   "outputs": [
    {
     "data": {
      "text/html": [
       "<style>#sk-container-id-5 {\n",
       "  /* Definition of color scheme common for light and dark mode */\n",
       "  --sklearn-color-text: black;\n",
       "  --sklearn-color-line: gray;\n",
       "  /* Definition of color scheme for unfitted estimators */\n",
       "  --sklearn-color-unfitted-level-0: #fff5e6;\n",
       "  --sklearn-color-unfitted-level-1: #f6e4d2;\n",
       "  --sklearn-color-unfitted-level-2: #ffe0b3;\n",
       "  --sklearn-color-unfitted-level-3: chocolate;\n",
       "  /* Definition of color scheme for fitted estimators */\n",
       "  --sklearn-color-fitted-level-0: #f0f8ff;\n",
       "  --sklearn-color-fitted-level-1: #d4ebff;\n",
       "  --sklearn-color-fitted-level-2: #b3dbfd;\n",
       "  --sklearn-color-fitted-level-3: cornflowerblue;\n",
       "\n",
       "  /* Specific color for light theme */\n",
       "  --sklearn-color-text-on-default-background: var(--sg-text-color, var(--theme-code-foreground, var(--jp-content-font-color1, black)));\n",
       "  --sklearn-color-background: var(--sg-background-color, var(--theme-background, var(--jp-layout-color0, white)));\n",
       "  --sklearn-color-border-box: var(--sg-text-color, var(--theme-code-foreground, var(--jp-content-font-color1, black)));\n",
       "  --sklearn-color-icon: #696969;\n",
       "\n",
       "  @media (prefers-color-scheme: dark) {\n",
       "    /* Redefinition of color scheme for dark theme */\n",
       "    --sklearn-color-text-on-default-background: var(--sg-text-color, var(--theme-code-foreground, var(--jp-content-font-color1, white)));\n",
       "    --sklearn-color-background: var(--sg-background-color, var(--theme-background, var(--jp-layout-color0, #111)));\n",
       "    --sklearn-color-border-box: var(--sg-text-color, var(--theme-code-foreground, var(--jp-content-font-color1, white)));\n",
       "    --sklearn-color-icon: #878787;\n",
       "  }\n",
       "}\n",
       "\n",
       "#sk-container-id-5 {\n",
       "  color: var(--sklearn-color-text);\n",
       "}\n",
       "\n",
       "#sk-container-id-5 pre {\n",
       "  padding: 0;\n",
       "}\n",
       "\n",
       "#sk-container-id-5 input.sk-hidden--visually {\n",
       "  border: 0;\n",
       "  clip: rect(1px 1px 1px 1px);\n",
       "  clip: rect(1px, 1px, 1px, 1px);\n",
       "  height: 1px;\n",
       "  margin: -1px;\n",
       "  overflow: hidden;\n",
       "  padding: 0;\n",
       "  position: absolute;\n",
       "  width: 1px;\n",
       "}\n",
       "\n",
       "#sk-container-id-5 div.sk-dashed-wrapped {\n",
       "  border: 1px dashed var(--sklearn-color-line);\n",
       "  margin: 0 0.4em 0.5em 0.4em;\n",
       "  box-sizing: border-box;\n",
       "  padding-bottom: 0.4em;\n",
       "  background-color: var(--sklearn-color-background);\n",
       "}\n",
       "\n",
       "#sk-container-id-5 div.sk-container {\n",
       "  /* jupyter's `normalize.less` sets `[hidden] { display: none; }`\n",
       "     but bootstrap.min.css set `[hidden] { display: none !important; }`\n",
       "     so we also need the `!important` here to be able to override the\n",
       "     default hidden behavior on the sphinx rendered scikit-learn.org.\n",
       "     See: https://github.com/scikit-learn/scikit-learn/issues/21755 */\n",
       "  display: inline-block !important;\n",
       "  position: relative;\n",
       "}\n",
       "\n",
       "#sk-container-id-5 div.sk-text-repr-fallback {\n",
       "  display: none;\n",
       "}\n",
       "\n",
       "div.sk-parallel-item,\n",
       "div.sk-serial,\n",
       "div.sk-item {\n",
       "  /* draw centered vertical line to link estimators */\n",
       "  background-image: linear-gradient(var(--sklearn-color-text-on-default-background), var(--sklearn-color-text-on-default-background));\n",
       "  background-size: 2px 100%;\n",
       "  background-repeat: no-repeat;\n",
       "  background-position: center center;\n",
       "}\n",
       "\n",
       "/* Parallel-specific style estimator block */\n",
       "\n",
       "#sk-container-id-5 div.sk-parallel-item::after {\n",
       "  content: \"\";\n",
       "  width: 100%;\n",
       "  border-bottom: 2px solid var(--sklearn-color-text-on-default-background);\n",
       "  flex-grow: 1;\n",
       "}\n",
       "\n",
       "#sk-container-id-5 div.sk-parallel {\n",
       "  display: flex;\n",
       "  align-items: stretch;\n",
       "  justify-content: center;\n",
       "  background-color: var(--sklearn-color-background);\n",
       "  position: relative;\n",
       "}\n",
       "\n",
       "#sk-container-id-5 div.sk-parallel-item {\n",
       "  display: flex;\n",
       "  flex-direction: column;\n",
       "}\n",
       "\n",
       "#sk-container-id-5 div.sk-parallel-item:first-child::after {\n",
       "  align-self: flex-end;\n",
       "  width: 50%;\n",
       "}\n",
       "\n",
       "#sk-container-id-5 div.sk-parallel-item:last-child::after {\n",
       "  align-self: flex-start;\n",
       "  width: 50%;\n",
       "}\n",
       "\n",
       "#sk-container-id-5 div.sk-parallel-item:only-child::after {\n",
       "  width: 0;\n",
       "}\n",
       "\n",
       "/* Serial-specific style estimator block */\n",
       "\n",
       "#sk-container-id-5 div.sk-serial {\n",
       "  display: flex;\n",
       "  flex-direction: column;\n",
       "  align-items: center;\n",
       "  background-color: var(--sklearn-color-background);\n",
       "  padding-right: 1em;\n",
       "  padding-left: 1em;\n",
       "}\n",
       "\n",
       "\n",
       "/* Toggleable style: style used for estimator/Pipeline/ColumnTransformer box that is\n",
       "clickable and can be expanded/collapsed.\n",
       "- Pipeline and ColumnTransformer use this feature and define the default style\n",
       "- Estimators will overwrite some part of the style using the `sk-estimator` class\n",
       "*/\n",
       "\n",
       "/* Pipeline and ColumnTransformer style (default) */\n",
       "\n",
       "#sk-container-id-5 div.sk-toggleable {\n",
       "  /* Default theme specific background. It is overwritten whether we have a\n",
       "  specific estimator or a Pipeline/ColumnTransformer */\n",
       "  background-color: var(--sklearn-color-background);\n",
       "}\n",
       "\n",
       "/* Toggleable label */\n",
       "#sk-container-id-5 label.sk-toggleable__label {\n",
       "  cursor: pointer;\n",
       "  display: block;\n",
       "  width: 100%;\n",
       "  margin-bottom: 0;\n",
       "  padding: 0.5em;\n",
       "  box-sizing: border-box;\n",
       "  text-align: center;\n",
       "}\n",
       "\n",
       "#sk-container-id-5 label.sk-toggleable__label-arrow:before {\n",
       "  /* Arrow on the left of the label */\n",
       "  content: \"▸\";\n",
       "  float: left;\n",
       "  margin-right: 0.25em;\n",
       "  color: var(--sklearn-color-icon);\n",
       "}\n",
       "\n",
       "#sk-container-id-5 label.sk-toggleable__label-arrow:hover:before {\n",
       "  color: var(--sklearn-color-text);\n",
       "}\n",
       "\n",
       "/* Toggleable content - dropdown */\n",
       "\n",
       "#sk-container-id-5 div.sk-toggleable__content {\n",
       "  max-height: 0;\n",
       "  max-width: 0;\n",
       "  overflow: hidden;\n",
       "  text-align: left;\n",
       "  /* unfitted */\n",
       "  background-color: var(--sklearn-color-unfitted-level-0);\n",
       "}\n",
       "\n",
       "#sk-container-id-5 div.sk-toggleable__content.fitted {\n",
       "  /* fitted */\n",
       "  background-color: var(--sklearn-color-fitted-level-0);\n",
       "}\n",
       "\n",
       "#sk-container-id-5 div.sk-toggleable__content pre {\n",
       "  margin: 0.2em;\n",
       "  border-radius: 0.25em;\n",
       "  color: var(--sklearn-color-text);\n",
       "  /* unfitted */\n",
       "  background-color: var(--sklearn-color-unfitted-level-0);\n",
       "}\n",
       "\n",
       "#sk-container-id-5 div.sk-toggleable__content.fitted pre {\n",
       "  /* unfitted */\n",
       "  background-color: var(--sklearn-color-fitted-level-0);\n",
       "}\n",
       "\n",
       "#sk-container-id-5 input.sk-toggleable__control:checked~div.sk-toggleable__content {\n",
       "  /* Expand drop-down */\n",
       "  max-height: 200px;\n",
       "  max-width: 100%;\n",
       "  overflow: auto;\n",
       "}\n",
       "\n",
       "#sk-container-id-5 input.sk-toggleable__control:checked~label.sk-toggleable__label-arrow:before {\n",
       "  content: \"▾\";\n",
       "}\n",
       "\n",
       "/* Pipeline/ColumnTransformer-specific style */\n",
       "\n",
       "#sk-container-id-5 div.sk-label input.sk-toggleable__control:checked~label.sk-toggleable__label {\n",
       "  color: var(--sklearn-color-text);\n",
       "  background-color: var(--sklearn-color-unfitted-level-2);\n",
       "}\n",
       "\n",
       "#sk-container-id-5 div.sk-label.fitted input.sk-toggleable__control:checked~label.sk-toggleable__label {\n",
       "  background-color: var(--sklearn-color-fitted-level-2);\n",
       "}\n",
       "\n",
       "/* Estimator-specific style */\n",
       "\n",
       "/* Colorize estimator box */\n",
       "#sk-container-id-5 div.sk-estimator input.sk-toggleable__control:checked~label.sk-toggleable__label {\n",
       "  /* unfitted */\n",
       "  background-color: var(--sklearn-color-unfitted-level-2);\n",
       "}\n",
       "\n",
       "#sk-container-id-5 div.sk-estimator.fitted input.sk-toggleable__control:checked~label.sk-toggleable__label {\n",
       "  /* fitted */\n",
       "  background-color: var(--sklearn-color-fitted-level-2);\n",
       "}\n",
       "\n",
       "#sk-container-id-5 div.sk-label label.sk-toggleable__label,\n",
       "#sk-container-id-5 div.sk-label label {\n",
       "  /* The background is the default theme color */\n",
       "  color: var(--sklearn-color-text-on-default-background);\n",
       "}\n",
       "\n",
       "/* On hover, darken the color of the background */\n",
       "#sk-container-id-5 div.sk-label:hover label.sk-toggleable__label {\n",
       "  color: var(--sklearn-color-text);\n",
       "  background-color: var(--sklearn-color-unfitted-level-2);\n",
       "}\n",
       "\n",
       "/* Label box, darken color on hover, fitted */\n",
       "#sk-container-id-5 div.sk-label.fitted:hover label.sk-toggleable__label.fitted {\n",
       "  color: var(--sklearn-color-text);\n",
       "  background-color: var(--sklearn-color-fitted-level-2);\n",
       "}\n",
       "\n",
       "/* Estimator label */\n",
       "\n",
       "#sk-container-id-5 div.sk-label label {\n",
       "  font-family: monospace;\n",
       "  font-weight: bold;\n",
       "  display: inline-block;\n",
       "  line-height: 1.2em;\n",
       "}\n",
       "\n",
       "#sk-container-id-5 div.sk-label-container {\n",
       "  text-align: center;\n",
       "}\n",
       "\n",
       "/* Estimator-specific */\n",
       "#sk-container-id-5 div.sk-estimator {\n",
       "  font-family: monospace;\n",
       "  border: 1px dotted var(--sklearn-color-border-box);\n",
       "  border-radius: 0.25em;\n",
       "  box-sizing: border-box;\n",
       "  margin-bottom: 0.5em;\n",
       "  /* unfitted */\n",
       "  background-color: var(--sklearn-color-unfitted-level-0);\n",
       "}\n",
       "\n",
       "#sk-container-id-5 div.sk-estimator.fitted {\n",
       "  /* fitted */\n",
       "  background-color: var(--sklearn-color-fitted-level-0);\n",
       "}\n",
       "\n",
       "/* on hover */\n",
       "#sk-container-id-5 div.sk-estimator:hover {\n",
       "  /* unfitted */\n",
       "  background-color: var(--sklearn-color-unfitted-level-2);\n",
       "}\n",
       "\n",
       "#sk-container-id-5 div.sk-estimator.fitted:hover {\n",
       "  /* fitted */\n",
       "  background-color: var(--sklearn-color-fitted-level-2);\n",
       "}\n",
       "\n",
       "/* Specification for estimator info (e.g. \"i\" and \"?\") */\n",
       "\n",
       "/* Common style for \"i\" and \"?\" */\n",
       "\n",
       ".sk-estimator-doc-link,\n",
       "a:link.sk-estimator-doc-link,\n",
       "a:visited.sk-estimator-doc-link {\n",
       "  float: right;\n",
       "  font-size: smaller;\n",
       "  line-height: 1em;\n",
       "  font-family: monospace;\n",
       "  background-color: var(--sklearn-color-background);\n",
       "  border-radius: 1em;\n",
       "  height: 1em;\n",
       "  width: 1em;\n",
       "  text-decoration: none !important;\n",
       "  margin-left: 1ex;\n",
       "  /* unfitted */\n",
       "  border: var(--sklearn-color-unfitted-level-1) 1pt solid;\n",
       "  color: var(--sklearn-color-unfitted-level-1);\n",
       "}\n",
       "\n",
       ".sk-estimator-doc-link.fitted,\n",
       "a:link.sk-estimator-doc-link.fitted,\n",
       "a:visited.sk-estimator-doc-link.fitted {\n",
       "  /* fitted */\n",
       "  border: var(--sklearn-color-fitted-level-1) 1pt solid;\n",
       "  color: var(--sklearn-color-fitted-level-1);\n",
       "}\n",
       "\n",
       "/* On hover */\n",
       "div.sk-estimator:hover .sk-estimator-doc-link:hover,\n",
       ".sk-estimator-doc-link:hover,\n",
       "div.sk-label-container:hover .sk-estimator-doc-link:hover,\n",
       ".sk-estimator-doc-link:hover {\n",
       "  /* unfitted */\n",
       "  background-color: var(--sklearn-color-unfitted-level-3);\n",
       "  color: var(--sklearn-color-background);\n",
       "  text-decoration: none;\n",
       "}\n",
       "\n",
       "div.sk-estimator.fitted:hover .sk-estimator-doc-link.fitted:hover,\n",
       ".sk-estimator-doc-link.fitted:hover,\n",
       "div.sk-label-container:hover .sk-estimator-doc-link.fitted:hover,\n",
       ".sk-estimator-doc-link.fitted:hover {\n",
       "  /* fitted */\n",
       "  background-color: var(--sklearn-color-fitted-level-3);\n",
       "  color: var(--sklearn-color-background);\n",
       "  text-decoration: none;\n",
       "}\n",
       "\n",
       "/* Span, style for the box shown on hovering the info icon */\n",
       ".sk-estimator-doc-link span {\n",
       "  display: none;\n",
       "  z-index: 9999;\n",
       "  position: relative;\n",
       "  font-weight: normal;\n",
       "  right: .2ex;\n",
       "  padding: .5ex;\n",
       "  margin: .5ex;\n",
       "  width: min-content;\n",
       "  min-width: 20ex;\n",
       "  max-width: 50ex;\n",
       "  color: var(--sklearn-color-text);\n",
       "  box-shadow: 2pt 2pt 4pt #999;\n",
       "  /* unfitted */\n",
       "  background: var(--sklearn-color-unfitted-level-0);\n",
       "  border: .5pt solid var(--sklearn-color-unfitted-level-3);\n",
       "}\n",
       "\n",
       ".sk-estimator-doc-link.fitted span {\n",
       "  /* fitted */\n",
       "  background: var(--sklearn-color-fitted-level-0);\n",
       "  border: var(--sklearn-color-fitted-level-3);\n",
       "}\n",
       "\n",
       ".sk-estimator-doc-link:hover span {\n",
       "  display: block;\n",
       "}\n",
       "\n",
       "/* \"?\"-specific style due to the `<a>` HTML tag */\n",
       "\n",
       "#sk-container-id-5 a.estimator_doc_link {\n",
       "  float: right;\n",
       "  font-size: 1rem;\n",
       "  line-height: 1em;\n",
       "  font-family: monospace;\n",
       "  background-color: var(--sklearn-color-background);\n",
       "  border-radius: 1rem;\n",
       "  height: 1rem;\n",
       "  width: 1rem;\n",
       "  text-decoration: none;\n",
       "  /* unfitted */\n",
       "  color: var(--sklearn-color-unfitted-level-1);\n",
       "  border: var(--sklearn-color-unfitted-level-1) 1pt solid;\n",
       "}\n",
       "\n",
       "#sk-container-id-5 a.estimator_doc_link.fitted {\n",
       "  /* fitted */\n",
       "  border: var(--sklearn-color-fitted-level-1) 1pt solid;\n",
       "  color: var(--sklearn-color-fitted-level-1);\n",
       "}\n",
       "\n",
       "/* On hover */\n",
       "#sk-container-id-5 a.estimator_doc_link:hover {\n",
       "  /* unfitted */\n",
       "  background-color: var(--sklearn-color-unfitted-level-3);\n",
       "  color: var(--sklearn-color-background);\n",
       "  text-decoration: none;\n",
       "}\n",
       "\n",
       "#sk-container-id-5 a.estimator_doc_link.fitted:hover {\n",
       "  /* fitted */\n",
       "  background-color: var(--sklearn-color-fitted-level-3);\n",
       "}\n",
       "</style><div id=\"sk-container-id-5\" class=\"sk-top-container\"><div class=\"sk-text-repr-fallback\"><pre>RandomForestClassifier()</pre><b>In a Jupyter environment, please rerun this cell to show the HTML representation or trust the notebook. <br />On GitHub, the HTML representation is unable to render, please try loading this page with nbviewer.org.</b></div><div class=\"sk-container\" hidden><div class=\"sk-item\"><div class=\"sk-estimator fitted sk-toggleable\"><input class=\"sk-toggleable__control sk-hidden--visually\" id=\"sk-estimator-id-5\" type=\"checkbox\" checked><label for=\"sk-estimator-id-5\" class=\"sk-toggleable__label fitted sk-toggleable__label-arrow fitted\">&nbsp;&nbsp;RandomForestClassifier<a class=\"sk-estimator-doc-link fitted\" rel=\"noreferrer\" target=\"_blank\" href=\"https://scikit-learn.org/1.5/modules/generated/sklearn.ensemble.RandomForestClassifier.html\">?<span>Documentation for RandomForestClassifier</span></a><span class=\"sk-estimator-doc-link fitted\">i<span>Fitted</span></span></label><div class=\"sk-toggleable__content fitted\"><pre>RandomForestClassifier()</pre></div> </div></div></div></div>"
      ],
      "text/plain": [
       "RandomForestClassifier()"
      ]
     },
     "execution_count": 101,
     "metadata": {},
     "output_type": "execute_result"
    }
   ],
   "source": [
    "model_rf.fit(x_train_res,y_train_res)"
   ]
  },
  {
   "cell_type": "code",
   "execution_count": null,
   "id": "6ca65e42-949a-4ac5-97c3-795605ecfd85",
   "metadata": {},
   "outputs": [],
   "source": []
  },
  {
   "cell_type": "markdown",
   "id": "9a92842c-85ed-461e-afb1-ce2550cc1b62",
   "metadata": {},
   "source": [
    "## 📊 Comparison Table\n",
    "|Metric\t|Before Oversampling\t|After Oversampling|\n",
    "|-------|-----------------------|------------------|\n",
    "|Class 0 (Legit) Precision\t|0.9992\t|0.9999 ✅\n",
    "|Class 0 (Legit) Recall\t|0.9998 ✅\t|0.9744 ⬇️\n",
    "|Class 1 (Fraud) Precision\t|0.8571 ✅\t|0.0645 ⬇️\n",
    "|Class 1 (Fraud) Recall\t|0.5753 ⬇️\t|0.9315 ✅⬆️\n",
    "|Accuracy\t|0.9990 ✅\t|0.9744 ⬇️\n",
    "|Macro Avg F1\t|0.8440 ✅\t|0.5538 ⬇️"
   ]
  },
  {
   "cell_type": "markdown",
   "id": "8761fa7a-f6ca-41e9-bec8-9bb131b36807",
   "metadata": {},
   "source": [
    "### 🧠 What’s Happening?\n",
    "**🧪 BEFORE Oversampling:**\n",
    "\n",
    "Your model is trained on the original, imbalanced dataset:\n",
    "\n",
    "- Legit (Class 0): 99.8% of data\n",
    "- Fraud (Class 1): ~0.2%\n",
    "\n",
    "So:\n",
    "\n",
    "- Model is heavily biased toward Class 0\n",
    "- High accuracy (99.9%) is misleading\n",
    "- Only catches ~57% of frauds (recall = 0.5753)\n",
    "- Precision for frauds is good (0.8571), but misses many actual frauds\n",
    "\n",
    "**🧪 AFTER Random Oversampling:**\n",
    "\n",
    "You've duplicated the minority (fraud) class in the training set to make it balanced.\n",
    "\n",
    "Now:\n",
    "\n",
    "- Model is forced to learn what frauds look like\n",
    "- Recall improves dramatically (now catches 93% of frauds ✅)\n",
    "- But precision drops sharply to 0.0645 — means many false positives\n",
    "- Model is overpredicting frauds, labeling too many legit transactions as fraud\n",
    "\n",
    "**🚦 So… Which One Is Better?**\n",
    "It depends on business goals:\n",
    "\n",
    "|Scenario\t|Focus\t|Recommended|\n",
    "|-----------|-------|-----------|\n",
    "|💳 Credit Card Company\t |Catch as many frauds as possible\t|✅ High recall is crucial → Accept oversampling and false positives\n",
    "|⚖️ Legal Risk or Costly Investigations\t |Avoid false accusations\t|✅ Higher precision is needed → May prefer original model or tune threshold\n",
    "\n"
   ]
  },
  {
   "cell_type": "markdown",
   "id": "74f5adb6-6870-44d5-8ef7-ba0e32f11a2a",
   "metadata": {},
   "source": [
    "## **🔁 ROS (Random Over Sampling)** vs **🧬 SMOTE (Synthetic Minority Over-sampling Technique)**\n",
    "\n",
    "| Feature                 | Random OverSampling (ROS)                               | SMOTE (Synthetic Minority Over-sampling Technique)      |\n",
    "| ----------------------- | ------------------------------------------------------- | ------------------------------------------------------- |\n",
    "| **Method**              | Randomly **duplicates existing** minority class samples | Generates **new synthetic samples** from minority class |\n",
    "| **Risk of Overfitting** | ✅ **High** — duplicates same rows again and again       | 🚫 **Lower** — generates diverse synthetic samples      |\n",
    "| **Data Distribution**   | ❌ Doesn't expand the feature space                      | ✅ Interpolates new data along feature space vectors     |\n",
    "| **Sample Diversity**    | ❌ Low — same points repeated                            | ✅ High — new data points created using neighbors        |\n",
    "| **Runtime Speed**       | ✅ Fast (just copy rows)                                 | ⚠️ Slower (calculates neighbors, interpolation)         |\n",
    "| **Works Well When...**  | Quick baseline, tiny datasets                           | When synthetic realism and generalization are needed    |\n",
    "| **Downside**            | Overfits quickly, not generalizable                     | Can produce noise if outliers exist in minority class   |\n",
    "\n",
    "---"
   ]
  },
  {
   "cell_type": "markdown",
   "id": "9371c8ab-923e-4a36-81fc-3ebfc045cd79",
   "metadata": {},
   "source": [
    "### ROS\n",
    "```yaml\n",
    "🟦 Legit Samples\n",
    "🔴 Fraud Samples\n",
    "\n",
    "After ROS:\n",
    "Same 🔴 copied again and again\n",
    "\n",
    "🟦 🟦 🟦 🟦 🟦\n",
    "🔴 🔴 🔴 🔴 🔴 🔴 🔴 🔴\n",
    "```\n",
    "---"
   ]
  },
  {
   "cell_type": "markdown",
   "id": "875c698c-00b8-4c93-a47a-8f3cdf92517d",
   "metadata": {},
   "source": [
    "### SMOTE\n",
    "```yaml\n",
    "🟦 Legit\n",
    "🔴 Fraud\n",
    "🟠 Synthetic Fraud\n",
    "\n",
    "SMOTE adds new points 'between' real frauds:\n",
    "🟦 🟦 🟦 🟦 🟦\n",
    "🔴 🟠 🔴 🟠 🔴\n",
    "```\n",
    "---"
   ]
  },
  {
   "cell_type": "code",
   "execution_count": null,
   "id": "4d167b43-ece1-4a10-87f0-2313ead8bbf4",
   "metadata": {},
   "outputs": [],
   "source": []
  },
  {
   "cell_type": "markdown",
   "id": "f1a803e4-1096-421b-9b83-ac1b11fb23af",
   "metadata": {},
   "source": [
    "## Evaluation"
   ]
  },
  {
   "cell_type": "code",
   "execution_count": 68,
   "id": "5d76a479-f8e5-40f9-8f9d-b94b9b3b1d75",
   "metadata": {},
   "outputs": [],
   "source": [
    "# Logistic Regression"
   ]
  },
  {
   "cell_type": "code",
   "execution_count": 77,
   "id": "00df5551-1856-4be2-b376-f5968d40ea67",
   "metadata": {},
   "outputs": [],
   "source": [
    "y_predict= model_lr.predict(x_test)"
   ]
  },
  {
   "cell_type": "markdown",
   "id": "c8886179-49aa-468b-82eb-22d4d250025f",
   "metadata": {},
   "source": [
    "### Before OverSampling: \n",
    "\n",
    "                  **precision    recall  f1-score   support**\n",
    "\n",
    "         **0.0**     0.9992    0.9998    0.9995     38625  ✅ Legitimate\n",
    "         **1.0**     0.8571    0.5753    0.6885        73  ⚠️ Fraud\n",
    "\n",
    "    accuracy                         0.9990     38698\n",
    "   macro avg     0.9282    0.7876    0.8440     \n",
    "weighted avg     0.9989    0.9990    0.9989     \n"
   ]
  },
  {
   "cell_type": "code",
   "execution_count": 79,
   "id": "43bbffc2-2794-4780-97dc-801e84ba7ff8",
   "metadata": {},
   "outputs": [
    {
     "name": "stdout",
     "output_type": "stream",
     "text": [
      "🔍 Logistic Regression Report: AFTER OverSampling\n",
      "              precision    recall  f1-score   support\n",
      "\n",
      "         0.0     0.9998    0.9735    0.9865     38625\n",
      "         1.0     0.0614    0.9178    0.1151        73\n",
      "\n",
      "    accuracy                         0.9734     38698\n",
      "   macro avg     0.5306    0.9456    0.5508     38698\n",
      "weighted avg     0.9981    0.9734    0.9848     38698\n",
      "\n"
     ]
    }
   ],
   "source": [
    "print(\"🔍 Logistic Regression Report: AFTER OverSampling\")\n",
    "print(classification_report(y_test, y_predict, digits=4))"
   ]
  },
  {
   "cell_type": "code",
   "execution_count": 81,
   "id": "1e6b6f59-488e-418a-b726-c3f76a6c2481",
   "metadata": {},
   "outputs": [
    {
     "data": {
      "text/plain": [
       "(97.33836373972815, 93.63499265376923)"
      ]
     },
     "execution_count": 81,
     "metadata": {},
     "output_type": "execute_result"
    }
   ],
   "source": [
    "model_lr.score(x_test,y_test)*100, model_lr.score(x_train_res,y_train_res)*100"
   ]
  },
  {
   "cell_type": "code",
   "execution_count": null,
   "id": "52d888a5-5052-4028-9955-a3ad8f5f95ac",
   "metadata": {},
   "outputs": [],
   "source": []
  },
  {
   "cell_type": "code",
   "execution_count": 73,
   "id": "5840d41b-7213-44d2-96e4-2fb58fdf400b",
   "metadata": {},
   "outputs": [],
   "source": [
    "# Random Forest"
   ]
  },
  {
   "cell_type": "code",
   "execution_count": 91,
   "id": "e12e8289-d82e-4747-923f-432df9d45bbb",
   "metadata": {},
   "outputs": [],
   "source": [
    "y_predict_2= model_rf.predict(x_test)"
   ]
  },
  {
   "cell_type": "markdown",
   "id": "0423103a-dfae-4b4c-9eff-db4c3bd1e519",
   "metadata": {},
   "source": [
    "🔍 Random Forest Report: **BEFORE** OverSampling\n",
    "             \n",
    "              precision    recall  f1-score   support\n",
    "\n",
    "         0.0     0.9998    0.9735    0.9865     38625\n",
    "         1.0     0.0614    0.9178    0.1151        73\n",
    "\n",
    "    accuracy                         0.9734     38698\n",
    "macro avg     0.5306    0.9456    0.5508     38698\n",
    "   \n",
    "weighted avg     0.9981    0.9734    0.9848     38698"
   ]
  },
  {
   "cell_type": "code",
   "execution_count": 104,
   "id": "4849c288-a696-4fe3-b12a-533c8d134bc0",
   "metadata": {},
   "outputs": [
    {
     "name": "stdout",
     "output_type": "stream",
     "text": [
      "🔍 Random Forest Report: AFTER OverSampling\n",
      "              precision    recall  f1-score   support\n",
      "\n",
      "         0.0     0.9997    0.9999    0.9998     38625\n",
      "         1.0     0.9688    0.8493    0.9051        73\n",
      "\n",
      "    accuracy                         0.9997     38698\n",
      "   macro avg     0.9842    0.9246    0.9525     38698\n",
      "weighted avg     0.9997    0.9997    0.9997     38698\n",
      "\n"
     ]
    }
   ],
   "source": [
    "print(\"🔍 Random Forest Report: AFTER OverSampling\")\n",
    "print(classification_report(y_test, y_predict_2, digits=4))"
   ]
  },
  {
   "cell_type": "code",
   "execution_count": null,
   "id": "831b7c67-9a21-43bb-8cc7-5331f84b5e68",
   "metadata": {},
   "outputs": [],
   "source": []
  },
  {
   "cell_type": "code",
   "execution_count": 106,
   "id": "5dabe3d6-4f8f-4f84-a913-ec2594f91d6e",
   "metadata": {},
   "outputs": [
    {
     "data": {
      "text/plain": [
       "(99.95607008114115, 100.0)"
      ]
     },
     "execution_count": 106,
     "metadata": {},
     "output_type": "execute_result"
    }
   ],
   "source": [
    "model_rf.score(x_test,y_test)*100, model_rf.score(x_train_res,y_train_res)*100"
   ]
  },
  {
   "cell_type": "code",
   "execution_count": null,
   "id": "1610712a-2366-49ab-a07c-780670758980",
   "metadata": {},
   "outputs": [],
   "source": []
  },
  {
   "cell_type": "code",
   "execution_count": 109,
   "id": "14e0e1e5-27be-4b27-81e4-b2a4093a1afb",
   "metadata": {},
   "outputs": [],
   "source": [
    "from sklearn.metrics import ConfusionMatrixDisplay, confusion_matrix"
   ]
  },
  {
   "cell_type": "code",
   "execution_count": 111,
   "id": "8da61564-1332-4a2c-8251-d65ee057f5e7",
   "metadata": {},
   "outputs": [],
   "source": [
    "# for Logistic Regression"
   ]
  },
  {
   "cell_type": "code",
   "execution_count": 113,
   "id": "21086597-48e7-4070-b312-92ce02358f69",
   "metadata": {},
   "outputs": [],
   "source": [
    "cm_lr= confusion_matrix(y_test,y_predict)"
   ]
  },
  {
   "cell_type": "code",
   "execution_count": 115,
   "id": "32138f06-25c7-4fbb-b40f-69dd92fe4864",
   "metadata": {},
   "outputs": [
    {
     "data": {
      "text/plain": [
       "array([[37601,  1024],\n",
       "       [    6,    67]], dtype=int64)"
      ]
     },
     "execution_count": 115,
     "metadata": {},
     "output_type": "execute_result"
    }
   ],
   "source": [
    "cm_lr"
   ]
  },
  {
   "cell_type": "code",
   "execution_count": 125,
   "id": "49f5601c-e87c-447c-9b2e-96cbeaf7bc3b",
   "metadata": {},
   "outputs": [
    {
     "data": {
      "text/plain": [
       "<sklearn.metrics._plot.confusion_matrix.ConfusionMatrixDisplay at 0x1c279df1670>"
      ]
     },
     "execution_count": 125,
     "metadata": {},
     "output_type": "execute_result"
    },
    {
     "data": {
      "image/png": "[encoded data removed]",
      "text/plain": [
       "<Figure size 640x480 with 2 Axes>"
      ]
     },
     "metadata": {},
     "output_type": "display_data"
    }
   ],
   "source": [
    "disp_lr= ConfusionMatrixDisplay(confusion_matrix=cm_lr)\n",
    "disp_lr.plot()"
   ]
  },
  {
   "cell_type": "code",
   "execution_count": null,
   "id": "602b8468-0b3f-49cc-af19-44b1ff315d1f",
   "metadata": {},
   "outputs": [],
   "source": []
  },
  {
   "cell_type": "code",
   "execution_count": 128,
   "id": "dd16180a-078a-4b01-86ad-06080644ca46",
   "metadata": {},
   "outputs": [],
   "source": [
    "# for Random Forest"
   ]
  },
  {
   "cell_type": "code",
   "execution_count": 130,
   "id": "5e40885f-77bb-4294-ac6c-39aaa296904f",
   "metadata": {},
   "outputs": [],
   "source": [
    "cm_rf= confusion_matrix(y_test,y_predict_2)"
   ]
  },
  {
   "cell_type": "code",
   "execution_count": 132,
   "id": "536a709e-88b6-4113-be81-68d9e2c30057",
   "metadata": {},
   "outputs": [
    {
     "data": {
      "text/plain": [
       "array([[38623,     2],\n",
       "       [   11,    62]], dtype=int64)"
      ]
     },
     "execution_count": 132,
     "metadata": {},
     "output_type": "execute_result"
    }
   ],
   "source": [
    "cm_rf"
   ]
  },
  {
   "cell_type": "code",
   "execution_count": 134,
   "id": "be61bfe6-058f-4f3c-a26a-b9dd296d2322",
   "metadata": {},
   "outputs": [
    {
     "data": {
      "text/plain": [
       "<sklearn.metrics._plot.confusion_matrix.ConfusionMatrixDisplay at 0x1c279f406b0>"
      ]
     },
     "execution_count": 134,
     "metadata": {},
     "output_type": "execute_result"
    },
    {
     "data": {
      "image/png": "[encoded data removed]",
      "text/plain": [
       "<Figure size 640x480 with 2 Axes>"
      ]
     },
     "metadata": {},
     "output_type": "display_data"
    }
   ],
   "source": [
    "disp_rf= ConfusionMatrixDisplay(confusion_matrix=cm_rf)\n",
    "disp_rf.plot()"
   ]
  },
  {
   "cell_type": "markdown",
   "id": "e7f6b849-03be-4e1f-a373-d08a89d9f0e4",
   "metadata": {},
   "source": [
    "## ✅ Let’s Compute Key Metrics for Both\n",
    "| Metric                   | Logistic Regression           | Random Forest              |\n",
    "| ------------------------ | ----------------------------- | -------------------------- |\n",
    "| **True Positives (TP)**  | 67 (frauds caught)            | 62 (frauds caught)         |\n",
    "| **False Negatives (FN)** | 6 (frauds missed)             | 11 (frauds missed)         |\n",
    "| **False Positives (FP)** | 1024 (legits wrongly flagged) | 2 (legits wrongly flagged) |\n",
    "| **True Negatives (TN)**  | 37601                         | 38623                      |\n",
    "\n",
    "---\n",
    "## 🧠 Evaluation: What Matters Most in Fraud Detection?\n",
    "| Metric              | Why it matters                                | Best Model                               |\n",
    "| ------------------- | --------------------------------------------- | ---------------------------------------- |\n",
    "| **Recall (TPR)**    | Find as many frauds as possible               | **Logistic Regression (67/73 = 0.9178)** |\n",
    "| **Precision**       | Reduce false alarms (don’t annoy legit users) | **Random Forest (62 / 64 = 0.968)**      |\n",
    "| **False Positives** | Important to reduce customer complaints       | ✅ Random Forest                          |\n",
    "| **False Negatives** | Critical — missed frauds = lost money         | ✅ Logistic Regression                    |\n",
    "\n",
    "---\n",
    "## 🎯 Summary\n",
    "| Aspect                       | Logistic Regression  | Random Forest       |\n",
    "| ---------------------------- | -------------------- | ------------------- |\n",
    "| **Catches more frauds**      | ✅ Yes (67/73)        | No (62/73)          |\n",
    "| **Misses fewer frauds**      | ✅ Fewer FN (6)       | More FN (11)        |\n",
    "| **Raises more false alarms** | ❌ 1024 legit flagged | ✅ Only 2 flagged    |\n",
    "| **Better Precision**         | ❌ (67 / 1091 ≈ 6%)   | ✅ (62 / 64 ≈ 96.8%) |\n",
    "| **Better Recall**            | ✅ 91.8%              | 84.9%               |\n",
    "\n",
    "---\n",
    "## ✅ Verdict\n",
    "\n",
    "**👉 If your goal is to minimize missing any fraud (high recall):**\n",
    "✔️ Choose Logistic Regression\n",
    "\n",
    "- It catches more frauds (6 missed vs 11).\n",
    "- Acceptable for sensitive environments (e.g., banks, security systems).\n",
    "\n",
    "**👉 If your goal is to avoid false accusations (high precision):**\n",
    "✔️ Choose Random Forest\n",
    "\n",
    "- Only 2 legitimate users wrongly flagged — excellent precision.\n",
    "- Better customer experience, fewer false alerts."
   ]
  },
  {
   "cell_type": "code",
   "execution_count": 139,
   "id": "c75868a2-d20e-4666-b2d7-782ea81199fc",
   "metadata": {},
   "outputs": [],
   "source": [
    "y_prob_lr = model_lr.predict_proba(x_test)[:, 1]\n",
    "y_prob_rf = model_rf.predict_proba(x_test)[:, 1]"
   ]
  },
  {
   "cell_type": "code",
   "execution_count": 145,
   "id": "703b88ac-6bbf-497c-8792-8a15e2a2a6bf",
   "metadata": {},
   "outputs": [
    {
     "data": {
      "image/png": "[encoded data removed]",
      "text/plain": [
       "<Figure size 640x480 with 1 Axes>"
      ]
     },
     "metadata": {},
     "output_type": "display_data"
    },
    {
     "name": "stdout",
     "output_type": "stream",
     "text": [
      "AUC Score: 0.9823019018486501\n",
      "✅ AUC closer to 1 means better separability between fraud and legit.\n"
     ]
    }
   ],
   "source": [
    "# for LR\n",
    "from sklearn.metrics import roc_auc_score, roc_curve\n",
    "import matplotlib.pyplot as plt\n",
    "\n",
    "fpr, tpr, thresholds = roc_curve(y_test, y_prob_lr)\n",
    "plt.plot(fpr, tpr, label='ROC Curve')\n",
    "plt.plot([0, 1], [0, 1], 'k--', label='Random')\n",
    "plt.xlabel('False Positive Rate')\n",
    "plt.ylabel('True Positive Rate')\n",
    "plt.title('ROC Curve')\n",
    "plt.legend()\n",
    "plt.show()\n",
    "\n",
    "auc_score = roc_auc_score(y_test, y_prob_lr)\n",
    "print(\"AUC Score:\", auc_score)\n",
    "\n",
    "print(\"✅ AUC closer to 1 means better separability between fraud and legit.\")"
   ]
  },
  {
   "cell_type": "code",
   "execution_count": 149,
   "id": "c0f2613e-0f3b-4127-88ad-7b1bc4febbcd",
   "metadata": {},
   "outputs": [
    {
     "name": "stdout",
     "output_type": "stream",
     "text": [
      "Accuracy: 0.9733836373972815\n",
      "Precision: 0.0614115490375802\n",
      "Recall: 0.9178082191780822\n",
      "F1-score: 0.11512027491408934\n"
     ]
    }
   ],
   "source": [
    "# for LR\n",
    "\n",
    "from sklearn.metrics import accuracy_score, precision_score, recall_score, f1_score\n",
    "\n",
    "print(\"Accuracy:\", accuracy_score(y_test, y_predict))\n",
    "print(\"Precision:\", precision_score(y_test, y_predict))\n",
    "print(\"Recall:\", recall_score(y_test, y_predict))\n",
    "print(\"F1-score:\", f1_score(y_test, y_predict))\n"
   ]
  },
  {
   "cell_type": "code",
   "execution_count": null,
   "id": "93b56ba3-1a38-4b93-b6b8-1f8b7f84cf97",
   "metadata": {},
   "outputs": [],
   "source": []
  },
  {
   "cell_type": "code",
   "execution_count": null,
   "id": "329f5556-6f2c-41ad-906c-18b028ec774e",
   "metadata": {},
   "outputs": [],
   "source": []
  },
  {
   "cell_type": "code",
   "execution_count": 154,
   "id": "5f6ac216-cf41-4de3-9902-af098544dcd6",
   "metadata": {},
   "outputs": [],
   "source": [
    "# Lets make a Dual model system."
   ]
  },
  {
   "cell_type": "code",
   "execution_count": 164,
   "id": "12a22b87-2e60-4274-910d-87220ad5bd35",
   "metadata": {},
   "outputs": [],
   "source": [
    "# STAGE 1\n",
    "stage1_preds = model_lr.predict(x_test)"
   ]
  },
  {
   "cell_type": "code",
   "execution_count": 166,
   "id": "e63d19d9-8ea9-48ff-9dfa-17230fb17f96",
   "metadata": {},
   "outputs": [],
   "source": [
    "suspicious_idx = (stage1_preds == 1)\n",
    "X_suspicious = x_test[suspicious_idx]"
   ]
  },
  {
   "cell_type": "code",
   "execution_count": 168,
   "id": "b5d0cebc-e5be-4603-bf20-e0cfadd52a0a",
   "metadata": {},
   "outputs": [],
   "source": [
    "# STAGE 2\n",
    "stage2_preds = model_rf.predict(X_suspicious)"
   ]
  },
  {
   "cell_type": "code",
   "execution_count": 170,
   "id": "b1591303-c4c1-40c5-b6b1-18d16c1c504d",
   "metadata": {},
   "outputs": [],
   "source": [
    "# Merge FINAL DECISION\n",
    "import numpy as np\n",
    "\n",
    "final_preds = np.copy(stage1_preds)\n",
    "final_preds[suspicious_idx] = stage2_preds"
   ]
  },
  {
   "cell_type": "code",
   "execution_count": 175,
   "id": "8fbec926-44a1-48d9-825b-d6a582ae038d",
   "metadata": {},
   "outputs": [
    {
     "name": "stdout",
     "output_type": "stream",
     "text": [
      "              precision    recall  f1-score   support\n",
      "\n",
      "         0.0       1.00      1.00      1.00     38625\n",
      "         1.0       0.96      0.88      0.91        73\n",
      "\n",
      "    accuracy                           1.00     38698\n",
      "   macro avg       0.98      0.94      0.96     38698\n",
      "weighted avg       1.00      1.00      1.00     38698\n",
      "\n",
      "[[38622     3]\n",
      " [    9    64]]\n"
     ]
    }
   ],
   "source": [
    "# Classification Report\n",
    "print(classification_report(y_test, final_preds))\n",
    "\n",
    "# Confusion Matrix\n",
    "print(confusion_matrix(y_test, final_preds))"
   ]
  },
  {
   "cell_type": "code",
   "execution_count": 173,
   "id": "a5cc3b18-90f0-448a-8b29-c46c6e3eb449",
   "metadata": {},
   "outputs": [
    {
     "data": {
      "image/png": "[encoded data removed]",
      "text/plain": [
       "<Figure size 640x480 with 2 Axes>"
      ]
     },
     "metadata": {},
     "output_type": "display_data"
    }
   ],
   "source": [
    "import seaborn as sns\n",
    "import matplotlib.pyplot as plt\n",
    "from sklearn.metrics import ConfusionMatrixDisplay\n",
    "\n",
    "ConfusionMatrixDisplay.from_predictions(y_test, final_preds)\n",
    "plt.title(\"Confusion Matrix - Dual Model\")\n",
    "plt.show()\n"
   ]
  },
  {
   "cell_type": "code",
   "execution_count": null,
   "id": "17014e9c-a4cf-46dc-bce8-d34803d7a5e1",
   "metadata": {},
   "outputs": [],
   "source": []
  },
  {
   "cell_type": "code",
   "execution_count": null,
   "id": "5df948f9-54b4-48fd-95a1-406b98b6a4f6",
   "metadata": {},
   "outputs": [],
   "source": []
  },
  {
   "cell_type": "code",
   "execution_count": 179,
   "id": "955e916a-f85b-48d2-8bb1-c1b19f6079b5",
   "metadata": {},
   "outputs": [],
   "source": [
    "# For interpreting Overfitting"
   ]
  },
  {
   "cell_type": "code",
   "execution_count": 181,
   "id": "771ef0ed-657b-443d-b7c0-232955dbdaeb",
   "metadata": {},
   "outputs": [],
   "source": [
    "# Predict on training data for both models\n",
    "train_preds_lr = model_lr.predict(x_train_res)\n",
    "train_preds_rf = model_rf.predict(x_train_res)"
   ]
  },
  {
   "cell_type": "code",
   "execution_count": 193,
   "id": "8efa621f-e6ec-489a-b3e1-fee750fd90a4",
   "metadata": {},
   "outputs": [
    {
     "name": "stdout",
     "output_type": "stream",
     "text": [
      "🔹 Logistic Regression - Training Performance\n",
      "              precision    recall  f1-score   support\n",
      "\n",
      "         0.0       0.91      0.97      0.94    154501\n",
      "         1.0       0.97      0.90      0.93    154501\n",
      "\n",
      "    accuracy                           0.94    309002\n",
      "   macro avg       0.94      0.94      0.94    309002\n",
      "weighted avg       0.94      0.94      0.94    309002\n",
      "\n",
      "🔹 Random Forest - Training Performance\n",
      "              precision    recall  f1-score   support\n",
      "\n",
      "         0.0       1.00      1.00      1.00    154501\n",
      "         1.0       1.00      1.00      1.00    154501\n",
      "\n",
      "    accuracy                           1.00    309002\n",
      "   macro avg       1.00      1.00      1.00    309002\n",
      "weighted avg       1.00      1.00      1.00    309002\n",
      "\n"
     ]
    }
   ],
   "source": [
    "from sklearn.metrics import classification_report\n",
    "\n",
    "print(\"🔹 Logistic Regression - Training Performance\")\n",
    "print(classification_report(y_train_res, train_preds_lr))\n",
    "\n",
    "print(\"🔹 Random Forest - Training Performance\")\n",
    "print(classification_report(y_train_res, train_preds_rf))"
   ]
  },
  {
   "cell_type": "code",
   "execution_count": 195,
   "id": "80f3843b-fbfc-4b27-8077-5fbd5b5540d9",
   "metadata": {},
   "outputs": [
    {
     "name": "stdout",
     "output_type": "stream",
     "text": [
      "🔹 Final Dual Model - Test Performance\n",
      "              precision    recall  f1-score   support\n",
      "\n",
      "         0.0       1.00      1.00      1.00     38625\n",
      "         1.0       0.96      0.88      0.91        73\n",
      "\n",
      "    accuracy                           1.00     38698\n",
      "   macro avg       0.98      0.94      0.96     38698\n",
      "weighted avg       1.00      1.00      1.00     38698\n",
      "\n"
     ]
    }
   ],
   "source": [
    "print(\"🔹 Final Dual Model - Test Performance\")\n",
    "print(classification_report(y_test, final_preds))"
   ]
  },
  {
   "cell_type": "code",
   "execution_count": null,
   "id": "3a343274-53f2-4709-b282-ff382478a8d6",
   "metadata": {},
   "outputs": [],
   "source": []
  }
 ],
 "metadata": {
  "kernelspec": {
   "display_name": "Python [conda env:base] *",
   "language": "python",
   "name": "conda-base-py"
  },
  "language_info": {
   "codemirror_mode": {
    "name": "ipython",
    "version": 3
   },
   "file_extension": ".py",
   "mimetype": "text/x-python",
   "name": "python",
   "nbconvert_exporter": "python",
   "pygments_lexer": "ipython3",
   "version": "3.12.7"
  }
 },
 "nbformat": 4,
 "nbformat_minor": 5
}
